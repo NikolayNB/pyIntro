{
 "cells": [
  {
   "cell_type": "markdown",
   "metadata": {},
   "source": [
    "# **Condicionales**"
   ]
  },
  {
   "cell_type": "code",
   "execution_count": null,
   "metadata": {},
   "outputs": [],
   "source": [
    "def clasificar_nps(nota):\n",
    "  if nota <= 6:\n",
    "    print('El alumno es considerado Detractor')\n",
    "  else:\n",
    "    if nota <= 8: \n",
    "      print('El alumno es considerado Neutro')\n",
    "    else:\n",
    "      print('El alumno es considerado Promotor')\n",
    "\n",
    "clasificar_nps(9)"
   ]
  },
  {
   "cell_type": "code",
   "execution_count": null,
   "metadata": {},
   "outputs": [],
   "source": [
    "age = 25\n",
    "\n",
    "def allowToDrive(age):\n",
    "    if age >= 18:\n",
    "        print(\"Allowed to drive\")\n",
    "    else:\n",
    "        print(\"Not allowed to drive\")\n",
    "\n",
    "allowToDrive(age)\n"
   ]
  },
  {
   "cell_type": "markdown",
   "metadata": {},
   "source": []
  },
  {
   "cell_type": "markdown",
   "metadata": {},
   "source": [
    "# **Listas**"
   ]
  },
  {
   "cell_type": "code",
   "execution_count": 1,
   "metadata": {},
   "outputs": [],
   "source": [
    "edades = [18, 15, 12, 45, 50]"
   ]
  },
  {
   "cell_type": "code",
   "execution_count": 2,
   "metadata": {},
   "outputs": [
    {
     "data": {
      "text/plain": [
       "[18, 15, 12, 45, 50]"
      ]
     },
     "execution_count": 2,
     "metadata": {},
     "output_type": "execute_result"
    }
   ],
   "source": [
    "edades"
   ]
  },
  {
   "cell_type": "code",
   "execution_count": null,
   "metadata": {},
   "outputs": [],
   "source": []
  },
  {
   "cell_type": "markdown",
   "metadata": {},
   "source": [
    "# **Bucles y Loops**"
   ]
  },
  {
   "cell_type": "code",
   "execution_count": 4,
   "metadata": {},
   "outputs": [
    {
     "name": "stdout",
     "output_type": "stream",
     "text": [
      "Allowed to drive\n",
      "Not allowed to drive\n",
      "Not allowed to drive\n",
      "Allowed to drive\n",
      "Allowed to drive\n"
     ]
    }
   ],
   "source": [
    "edades = [18, 15, 12, 45, 50]\n",
    "\n",
    "def allowToDrive(age):\n",
    "    if age >= 18:\n",
    "        print(\"Allowed to drive\")\n",
    "    else:\n",
    "        print(\"Not allowed to drive\")\n",
    "\n",
    "for age in edades:\n",
    "    allowToDrive(age)"
   ]
  },
  {
   "cell_type": "code",
   "execution_count": 7,
   "metadata": {},
   "outputs": [
    {
     "name": "stdout",
     "output_type": "stream",
     "text": [
      "Allowed to drive\n",
      "Not allowed to drive\n",
      "Not allowed to drive\n",
      "Allowed to drive\n",
      "Allowed to drive\n"
     ]
    }
   ],
   "source": [
    "edades = [18, 15, 12, 45, 50]\n",
    "\n",
    "def allowToDriveInsideLoop(edades):\n",
    "    for age in edades:    \n",
    "        if age >= 18:\n",
    "            print(\"Allowed to drive\")\n",
    "        else:\n",
    "            print(\"Not allowed to drive\")\n",
    "\n",
    "allowToDriveInsideLoop(edades)"
   ]
  },
  {
   "cell_type": "markdown",
   "metadata": {},
   "source": []
  },
  {
   "cell_type": "markdown",
   "metadata": {},
   "source": [
    "# **Booleans**"
   ]
  },
  {
   "cell_type": "code",
   "execution_count": 10,
   "metadata": {},
   "outputs": [
    {
     "name": "stdout",
     "output_type": "stream",
     "text": [
      "Not allowed to drive\n",
      "Not allowed to drive\n",
      "Allowed to drive\n"
     ]
    }
   ],
   "source": [
    "verificaciones = []\n",
    "edades = [13, 15, 20]\n",
    "\n",
    "def verifyAllowedToDrive(verificaciones, edades):\n",
    "    for edad in edades:\n",
    "        if edad >= 18:\n",
    "            verificaciones.append(True)\n",
    "        else:\n",
    "            verificaciones.append(False)\n",
    "    for verificacion in verificaciones:\n",
    "        if verificacion == True:\n",
    "            print(\"Allowed to drive\")\n",
    "        else:\n",
    "            print(\"Not allowed to drive\")\n",
    "\n",
    "verifyAllowedToDrive(verificaciones, edades)"
   ]
  },
  {
   "cell_type": "markdown",
   "metadata": {},
   "source": [
    "# **Library**"
   ]
  },
  {
   "cell_type": "code",
   "execution_count": 25,
   "metadata": {},
   "outputs": [],
   "source": [
    "from random import randrange, seed"
   ]
  },
  {
   "cell_type": "code",
   "execution_count": 19,
   "metadata": {},
   "outputs": [
    {
     "data": {
      "text/plain": [
       "8"
      ]
     },
     "execution_count": 19,
     "metadata": {},
     "output_type": "execute_result"
    }
   ],
   "source": [
    "randrange(0, 11)"
   ]
  },
  {
   "cell_type": "code",
   "execution_count": 20,
   "metadata": {},
   "outputs": [
    {
     "data": {
      "text/plain": [
       "[9]"
      ]
     },
     "execution_count": 20,
     "metadata": {},
     "output_type": "execute_result"
    }
   ],
   "source": [
    "mathGrades = []\n",
    "mathGrades.append(randrange(0, 11))\n",
    "mathGrades"
   ]
  },
  {
   "cell_type": "code",
   "execution_count": 29,
   "metadata": {},
   "outputs": [
    {
     "data": {
      "text/plain": [
       "[3, 5, 6, 2, 3, 0]"
      ]
     },
     "execution_count": 29,
     "metadata": {},
     "output_type": "execute_result"
    }
   ],
   "source": [
    "mathGrades = []\n",
    "seed(8)\n",
    "for grades in range (6):\n",
    "    mathGrades.append(randrange(0, 11))\n",
    "\n",
    "mathGrades"
   ]
  },
  {
   "cell_type": "markdown",
   "metadata": {},
   "source": [
    "# **Graphics**"
   ]
  },
  {
   "cell_type": "code",
   "execution_count": 47,
   "metadata": {},
   "outputs": [
    {
     "ename": "ModuleNotFoundError",
     "evalue": "No module named 'matplotlib'",
     "output_type": "error",
     "traceback": [
      "\u001b[1;31m---------------------------------------------------------------------------\u001b[0m",
      "\u001b[1;31mModuleNotFoundError\u001b[0m                       Traceback (most recent call last)",
      "Cell \u001b[1;32mIn[47], line 1\u001b[0m\n\u001b[1;32m----> 1\u001b[0m \u001b[39mimport\u001b[39;00m \u001b[39mmatplotlib\u001b[39;00m\u001b[39m.\u001b[39;00m\u001b[39mpyplot\u001b[39;00m \u001b[39mas\u001b[39;00m \u001b[39mplt\u001b[39;00m\n",
      "\u001b[1;31mModuleNotFoundError\u001b[0m: No module named 'matplotlib'"
     ]
    }
   ],
   "source": [
    "import matplotlib.pyplot as plt"
   ]
  }
 ],
 "metadata": {
  "kernelspec": {
   "display_name": "Python 3",
   "language": "python",
   "name": "python3"
  },
  "language_info": {
   "codemirror_mode": {
    "name": "ipython",
    "version": 3
   },
   "file_extension": ".py",
   "mimetype": "text/x-python",
   "name": "python",
   "nbconvert_exporter": "python",
   "pygments_lexer": "ipython3",
   "version": "3.12.0"
  },
  "orig_nbformat": 4
 },
 "nbformat": 4,
 "nbformat_minor": 2
}
